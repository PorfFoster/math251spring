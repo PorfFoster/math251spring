{
  "nbformat": 4,
  "nbformat_minor": 0,
  "metadata": {
    "colab": {
      "provenance": [],
      "authorship_tag": "ABX9TyMM8c8CIF624o/Q1qVTp+9y",
      "include_colab_link": true
    },
    "kernelspec": {
      "name": "ir",
      "display_name": "R"
    },
    "language_info": {
      "name": "R"
    }
  },
  "cells": [
    {
      "cell_type": "markdown",
      "metadata": {
        "id": "view-in-github",
        "colab_type": "text"
      },
      "source": [
        "<a href=\"https://colab.research.google.com/github/PorfFoster/math251spring/blob/main/Project(Lab)_2_5_gamma_weibull.ipynb\" target=\"_parent\"><img src=\"https://colab.research.google.com/assets/colab-badge.svg\" alt=\"Open In Colab\"/></a>"
      ]
    },
    {
      "cell_type": "markdown",
      "source": [
        "#Project 2.5: Exploring the exponential, gamma, and Weibull distributions"
      ],
      "metadata": {
        "id": "2hl71DfL_XKc"
      }
    },
    {
      "cell_type": "markdown",
      "source": [
        "**Name:**"
      ],
      "metadata": {
        "id": "QeSGSvl5AllU"
      }
    },
    {
      "cell_type": "markdown",
      "source": [
        "<br>\n",
        "\n",
        "---\n",
        "\n",
        "In this lab, we will work with the exponential, gamma, and Weibull distributions. Our goal is to use R to explore how the parameters of these distributions, α (i.e, shape), β (i.e., scale), and λ (i.e., rate), influence the shape, size, and position of the data they are used to model. The objective of this lab is for you to gain familiarity with using statistical tools, in R, and to explore the gamma and Weibull distributions a bit further. You will be graded on completeness, the clarity of your explanations, and the accuracy of your inferences.\n",
        "\n",
        "[Here](https://www.youtube.com/watch?v=I4nAuvAerFg) is a brief video demonstrating what you will be doing in this lab.\n"
      ],
      "metadata": {
        "id": "A4BI30_nApHp"
      }
    },
    {
      "cell_type": "markdown",
      "source": [
        "###Task 1: Generating data sets and histrogams\n",
        "\n",
        "R allows us to generate (psuedo)random data sets, given parameters. For example, we can use `rexp` with parameters n for the number of data points and λ for the rate.\n",
        "\n",
        "Generate a data set using R that fits an exponential distribution (for more details about the `rexp` function, go [here](https://stat.ethz.ch/R-manual/R-devel/library/stats/html/Exponential.html)):"
      ],
      "metadata": {
        "id": "u4dCNBQKA5pQ"
      }
    },
    {
      "cell_type": "code",
      "source": [
        "n <- ???                                   #assign a number of samples to take\n",
        "random_exp_data <- rexp(n, rate = ???)     #pick a value for lambda (are\n",
        "                                           #there any invalid values?)\n",
        "print(random_exp_data)"
      ],
      "metadata": {
        "id": "1yktICGIC9_N"
      },
      "execution_count": null,
      "outputs": []
    },
    {
      "cell_type": "markdown",
      "source": [
        "Using the data you just generated, create a `hist`ogram to visualize your data (more info on the `hist` function can be found [here](https://www.rdocumentation.org/packages/graphics/versions/3.6.2/topics/hist)). While generating your histogram, think about how you are communicating your data. Should you change the `breaks`? What about axis labels?"
      ],
      "metadata": {
        "id": "LQ7U1JL2DV9F"
      }
    },
    {
      "cell_type": "code",
      "source": [
        "hist(???)                                 #recall, we can use\n",
        "                                          #breaks to pick appropiate binsizes"
      ],
      "metadata": {
        "id": "J9tUFbOlE7K2"
      },
      "execution_count": null,
      "outputs": []
    },
    {
      "cell_type": "markdown",
      "source": [
        "Generate two new data sets, one using `rgamma` and the other using `rweibull` (info about `rgamma` and `rweibull` can be found [here](https://stat.ethz.ch/R-manual/R-devel/library/stats/html/GammaDist.html) and [here](https://stat.ethz.ch/R-manual/R-devel/library/stats/html/Weibull.html)). Using the data you just generated, create some simply histograms to examine the distributions individually. Then, produce one histrogram containing both datasets using the qualifier `add`:"
      ],
      "metadata": {
        "id": "jdPQJeUvF_9c"
      }
    },
    {
      "cell_type": "code",
      "source": [
        "n <- ???\n",
        "random_gamma_data <- rgamma(n, shape = ???, rate = ???)\n",
        "random_weibull_data <- rweibull(n, shape = ???, scale = ???)\n",
        "\n",
        "hist(???)                         #do not forget to about the breaks\n",
        "hist(???, add = TRUE)             #input and how that influences your visualization"
      ],
      "metadata": {
        "id": "PSzcX7wSGXsS"
      },
      "execution_count": null,
      "outputs": []
    },
    {
      "cell_type": "markdown",
      "source": [
        "Notice how the histrgam you create above is difficult (impossible) to read without colors. Choose appropriate colors (you can find a list of colors available in R [here](https://www.stat.columbia.edu/~tzheng/files/Rcolor.pdf)) and re-generate your histagram."
      ],
      "metadata": {
        "id": "fWKJ1DtTRk3K"
      }
    },
    {
      "cell_type": "code",
      "source": [
        "n <- ???\n",
        "random_gamma_data <- rgamma(n, shape = ???, rate = ???)\n",
        "random_weibull_data <- rweibull(n, shape = ???, scale = ???)\n",
        "\n",
        "hist(???, col = '???')\n",
        "hist(???, col = '???', add = TRUE)"
      ],
      "metadata": {
        "id": "PI_TJ680SQZV"
      },
      "execution_count": null,
      "outputs": []
    },
    {
      "cell_type": "markdown",
      "source": [
        "###Task 2: Exploring the distributions and making inferences\n",
        "\n",
        "Explore the gamma distribution by manipulating the inputs. How do the shape and rate parameters influence the distributions?"
      ],
      "metadata": {
        "id": "0YglVGptlo9l"
      }
    },
    {
      "cell_type": "code",
      "source": [
        "#do some coding here"
      ],
      "metadata": {
        "id": "UQ_AcQilouWL"
      },
      "execution_count": null,
      "outputs": []
    },
    {
      "cell_type": "markdown",
      "source": [
        "*answer the question here*"
      ],
      "metadata": {
        "id": "9bVDkpctot3N"
      }
    },
    {
      "cell_type": "markdown",
      "source": [
        "Describe how you used R to make your inferences (be as thorough as possible in describing how you used R, what changes you made, and how those changes allowed you to make inferences):"
      ],
      "metadata": {
        "id": "MT3ubW9MozJ7"
      }
    },
    {
      "cell_type": "markdown",
      "source": [
        "*answer the question here*"
      ],
      "metadata": {
        "id": "GNY4ojmco6LI"
      }
    },
    {
      "cell_type": "markdown",
      "source": [
        "Explore the Weibull distribution by manipulating the inputs. How do the shape and scale parameters influence the distributions?"
      ],
      "metadata": {
        "id": "y0RmF9zvo7Ak"
      }
    },
    {
      "cell_type": "code",
      "source": [
        "#do some coding here"
      ],
      "metadata": {
        "id": "Fc_pk7bApDWu"
      },
      "execution_count": null,
      "outputs": []
    },
    {
      "cell_type": "markdown",
      "source": [
        "*answer the question here*"
      ],
      "metadata": {
        "id": "UemMKEp5pEQK"
      }
    },
    {
      "cell_type": "markdown",
      "source": [
        "Describe how you used R to make your inferences:"
      ],
      "metadata": {
        "id": "imNAcw3BpD8D"
      }
    },
    {
      "cell_type": "markdown",
      "source": [
        "*answer the question here*"
      ],
      "metadata": {
        "id": "XIZSLyhiz0T3"
      }
    },
    {
      "cell_type": "markdown",
      "source": [
        "###Task 3: Exponential versus gamma versus Weibull\n",
        "\n",
        "Use R to explore the following questions:\n",
        "\n",
        "Question 1: Generate a histogram containing two data sets. The first, is a sample of 1,000 data points under a gamma distribution with shape parameter of 5 and rate parameter of 1/6. The second,  is a sample of 1,000 data points under a Weibull distribution with a shape parameter of 5 and scale parameter of 6. How do these distributions differ? For both distributions, approximate P(X>10): Is it near 0, small (definitely less then 0.5), or large (much larger than .5)? Describe how you used your histograms to answer both questions."
      ],
      "metadata": {
        "id": "zd4VuthBpKQ9"
      }
    },
    {
      "cell_type": "code",
      "source": [
        "#do some coding here"
      ],
      "metadata": {
        "id": "Sizw1jEZzOps"
      },
      "execution_count": null,
      "outputs": []
    },
    {
      "cell_type": "markdown",
      "source": [
        "*answer the question here*"
      ],
      "metadata": {
        "id": "aYlv99PpzPF7"
      }
    },
    {
      "cell_type": "markdown",
      "source": [
        "Question 2: In class we discussed how the exponential distribution is part of both the gamma and Weibull distribution families. Under which parameter(s) is a gamma distirbution an exponential distribution? Under which parameter(s) is a Weibull distirbution an exponential distribution? Use R to visually convince yourself that your answers are correct."
      ],
      "metadata": {
        "id": "yqCGwF-IIJT4"
      }
    },
    {
      "cell_type": "code",
      "source": [
        "#do some coding here"
      ],
      "metadata": {
        "id": "3cX2Wc9pIVOZ"
      },
      "execution_count": null,
      "outputs": []
    },
    {
      "cell_type": "markdown",
      "source": [
        "*answer the question here*"
      ],
      "metadata": {
        "id": "K31TcSadIXCs"
      }
    },
    {
      "cell_type": "markdown",
      "source": [
        "###Task 4: Reflection\n",
        "\n",
        "The following questions are graded for completion. There is no right or wrong answer. Please use complete sentences for each question:\n",
        "\n",
        "\n",
        "\n",
        "1.   Was R useful in discovering any properties of the exponential, gamma, or Weibull distributions? If so, how was it useful?\n",
        "2.   Would you have been able to observe the effect(s) the parameters have on the respective distributions without R? Briefly describe how you could have done so.\n",
        "3.   Within this lab, you generated several visuals in the form of histograms. How did you use these visuals (e.g., to communicate results, to visualize patterns, etc.)?\n",
        "4.   Do you keep notes on the procedures you used within this lab? Why or why not?\n",
        "5.   Would you be able to explore a new distribution? How would you approach such a task?\n",
        "\n"
      ],
      "metadata": {
        "id": "aaxp8cAU9nXj"
      }
    }
  ]
}